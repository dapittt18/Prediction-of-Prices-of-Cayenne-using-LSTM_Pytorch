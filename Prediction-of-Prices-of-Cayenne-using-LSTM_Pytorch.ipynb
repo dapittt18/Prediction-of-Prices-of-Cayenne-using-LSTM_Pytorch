{
  "nbformat": 4,
  "nbformat_minor": 0,
  "metadata": {
    "colab": {
      "provenance": [],
      "toc_visible": true
    },
    "kernelspec": {
      "name": "python3",
      "display_name": "Python 3"
    },
    "language_info": {
      "name": "python"
    },
    "accelerator": "GPU",
    "gpuClass": "standard",
    "widgets": {
      "application/vnd.jupyter.widget-state+json": {
        "fc4b05f36de1441ebcc64988fbf2e585": {
          "model_module": "@jupyter-widgets/controls",
          "model_name": "HBoxModel",
          "model_module_version": "1.5.0",
          "state": {
            "_dom_classes": [],
            "_model_module": "@jupyter-widgets/controls",
            "_model_module_version": "1.5.0",
            "_model_name": "HBoxModel",
            "_view_count": null,
            "_view_module": "@jupyter-widgets/controls",
            "_view_module_version": "1.5.0",
            "_view_name": "HBoxView",
            "box_style": "",
            "children": [
              "IPY_MODEL_7c65ed18f6a5470f917eb196c3d6feb0",
              "IPY_MODEL_5be17ec1a43a46328445b67c1e10106c",
              "IPY_MODEL_999c2a149a8248769277cc1468612405"
            ],
            "layout": "IPY_MODEL_b1b6b24c0592412591bec8f28edbaf08"
          }
        },
        "7c65ed18f6a5470f917eb196c3d6feb0": {
          "model_module": "@jupyter-widgets/controls",
          "model_name": "HTMLModel",
          "model_module_version": "1.5.0",
          "state": {
            "_dom_classes": [],
            "_model_module": "@jupyter-widgets/controls",
            "_model_module_version": "1.5.0",
            "_model_name": "HTMLModel",
            "_view_count": null,
            "_view_module": "@jupyter-widgets/controls",
            "_view_module_version": "1.5.0",
            "_view_name": "HTMLView",
            "description": "",
            "description_tooltip": null,
            "layout": "IPY_MODEL_71de754c5fb44d039b9d0a3af8c3d42c",
            "placeholder": "​",
            "style": "IPY_MODEL_2a061a72796c498bbda251d270d0e488",
            "value": "epoch: 150: 100%"
          }
        },
        "5be17ec1a43a46328445b67c1e10106c": {
          "model_module": "@jupyter-widgets/controls",
          "model_name": "FloatProgressModel",
          "model_module_version": "1.5.0",
          "state": {
            "_dom_classes": [],
            "_model_module": "@jupyter-widgets/controls",
            "_model_module_version": "1.5.0",
            "_model_name": "FloatProgressModel",
            "_view_count": null,
            "_view_module": "@jupyter-widgets/controls",
            "_view_module_version": "1.5.0",
            "_view_name": "ProgressView",
            "bar_style": "success",
            "description": "",
            "description_tooltip": null,
            "layout": "IPY_MODEL_4e8898e470264e9192d73f64a43bc07b",
            "max": 150,
            "min": 0,
            "orientation": "horizontal",
            "style": "IPY_MODEL_bc7959fa9c994ca58d8a13e2dac7c7e3",
            "value": 150
          }
        },
        "999c2a149a8248769277cc1468612405": {
          "model_module": "@jupyter-widgets/controls",
          "model_name": "HTMLModel",
          "model_module_version": "1.5.0",
          "state": {
            "_dom_classes": [],
            "_model_module": "@jupyter-widgets/controls",
            "_model_module_version": "1.5.0",
            "_model_name": "HTMLModel",
            "_view_count": null,
            "_view_module": "@jupyter-widgets/controls",
            "_view_module_version": "1.5.0",
            "_view_name": "HTMLView",
            "description": "",
            "description_tooltip": null,
            "layout": "IPY_MODEL_42df1b616ce14f14a6b7c968eb2eb926",
            "placeholder": "​",
            "style": "IPY_MODEL_7913a077005a4a569ebec65619c1b071",
            "value": " 150/150 [00:14&lt;00:00, 10.23it/s]"
          }
        },
        "b1b6b24c0592412591bec8f28edbaf08": {
          "model_module": "@jupyter-widgets/base",
          "model_name": "LayoutModel",
          "model_module_version": "1.2.0",
          "state": {
            "_model_module": "@jupyter-widgets/base",
            "_model_module_version": "1.2.0",
            "_model_name": "LayoutModel",
            "_view_count": null,
            "_view_module": "@jupyter-widgets/base",
            "_view_module_version": "1.2.0",
            "_view_name": "LayoutView",
            "align_content": null,
            "align_items": null,
            "align_self": null,
            "border": null,
            "bottom": null,
            "display": null,
            "flex": null,
            "flex_flow": null,
            "grid_area": null,
            "grid_auto_columns": null,
            "grid_auto_flow": null,
            "grid_auto_rows": null,
            "grid_column": null,
            "grid_gap": null,
            "grid_row": null,
            "grid_template_areas": null,
            "grid_template_columns": null,
            "grid_template_rows": null,
            "height": null,
            "justify_content": null,
            "justify_items": null,
            "left": null,
            "margin": null,
            "max_height": null,
            "max_width": null,
            "min_height": null,
            "min_width": null,
            "object_fit": null,
            "object_position": null,
            "order": null,
            "overflow": null,
            "overflow_x": null,
            "overflow_y": null,
            "padding": null,
            "right": null,
            "top": null,
            "visibility": null,
            "width": null
          }
        },
        "71de754c5fb44d039b9d0a3af8c3d42c": {
          "model_module": "@jupyter-widgets/base",
          "model_name": "LayoutModel",
          "model_module_version": "1.2.0",
          "state": {
            "_model_module": "@jupyter-widgets/base",
            "_model_module_version": "1.2.0",
            "_model_name": "LayoutModel",
            "_view_count": null,
            "_view_module": "@jupyter-widgets/base",
            "_view_module_version": "1.2.0",
            "_view_name": "LayoutView",
            "align_content": null,
            "align_items": null,
            "align_self": null,
            "border": null,
            "bottom": null,
            "display": null,
            "flex": null,
            "flex_flow": null,
            "grid_area": null,
            "grid_auto_columns": null,
            "grid_auto_flow": null,
            "grid_auto_rows": null,
            "grid_column": null,
            "grid_gap": null,
            "grid_row": null,
            "grid_template_areas": null,
            "grid_template_columns": null,
            "grid_template_rows": null,
            "height": null,
            "justify_content": null,
            "justify_items": null,
            "left": null,
            "margin": null,
            "max_height": null,
            "max_width": null,
            "min_height": null,
            "min_width": null,
            "object_fit": null,
            "object_position": null,
            "order": null,
            "overflow": null,
            "overflow_x": null,
            "overflow_y": null,
            "padding": null,
            "right": null,
            "top": null,
            "visibility": null,
            "width": null
          }
        },
        "2a061a72796c498bbda251d270d0e488": {
          "model_module": "@jupyter-widgets/controls",
          "model_name": "DescriptionStyleModel",
          "model_module_version": "1.5.0",
          "state": {
            "_model_module": "@jupyter-widgets/controls",
            "_model_module_version": "1.5.0",
            "_model_name": "DescriptionStyleModel",
            "_view_count": null,
            "_view_module": "@jupyter-widgets/base",
            "_view_module_version": "1.2.0",
            "_view_name": "StyleView",
            "description_width": ""
          }
        },
        "4e8898e470264e9192d73f64a43bc07b": {
          "model_module": "@jupyter-widgets/base",
          "model_name": "LayoutModel",
          "model_module_version": "1.2.0",
          "state": {
            "_model_module": "@jupyter-widgets/base",
            "_model_module_version": "1.2.0",
            "_model_name": "LayoutModel",
            "_view_count": null,
            "_view_module": "@jupyter-widgets/base",
            "_view_module_version": "1.2.0",
            "_view_name": "LayoutView",
            "align_content": null,
            "align_items": null,
            "align_self": null,
            "border": null,
            "bottom": null,
            "display": null,
            "flex": null,
            "flex_flow": null,
            "grid_area": null,
            "grid_auto_columns": null,
            "grid_auto_flow": null,
            "grid_auto_rows": null,
            "grid_column": null,
            "grid_gap": null,
            "grid_row": null,
            "grid_template_areas": null,
            "grid_template_columns": null,
            "grid_template_rows": null,
            "height": null,
            "justify_content": null,
            "justify_items": null,
            "left": null,
            "margin": null,
            "max_height": null,
            "max_width": null,
            "min_height": null,
            "min_width": null,
            "object_fit": null,
            "object_position": null,
            "order": null,
            "overflow": null,
            "overflow_x": null,
            "overflow_y": null,
            "padding": null,
            "right": null,
            "top": null,
            "visibility": null,
            "width": null
          }
        },
        "bc7959fa9c994ca58d8a13e2dac7c7e3": {
          "model_module": "@jupyter-widgets/controls",
          "model_name": "ProgressStyleModel",
          "model_module_version": "1.5.0",
          "state": {
            "_model_module": "@jupyter-widgets/controls",
            "_model_module_version": "1.5.0",
            "_model_name": "ProgressStyleModel",
            "_view_count": null,
            "_view_module": "@jupyter-widgets/base",
            "_view_module_version": "1.2.0",
            "_view_name": "StyleView",
            "bar_color": null,
            "description_width": ""
          }
        },
        "42df1b616ce14f14a6b7c968eb2eb926": {
          "model_module": "@jupyter-widgets/base",
          "model_name": "LayoutModel",
          "model_module_version": "1.2.0",
          "state": {
            "_model_module": "@jupyter-widgets/base",
            "_model_module_version": "1.2.0",
            "_model_name": "LayoutModel",
            "_view_count": null,
            "_view_module": "@jupyter-widgets/base",
            "_view_module_version": "1.2.0",
            "_view_name": "LayoutView",
            "align_content": null,
            "align_items": null,
            "align_self": null,
            "border": null,
            "bottom": null,
            "display": null,
            "flex": null,
            "flex_flow": null,
            "grid_area": null,
            "grid_auto_columns": null,
            "grid_auto_flow": null,
            "grid_auto_rows": null,
            "grid_column": null,
            "grid_gap": null,
            "grid_row": null,
            "grid_template_areas": null,
            "grid_template_columns": null,
            "grid_template_rows": null,
            "height": null,
            "justify_content": null,
            "justify_items": null,
            "left": null,
            "margin": null,
            "max_height": null,
            "max_width": null,
            "min_height": null,
            "min_width": null,
            "object_fit": null,
            "object_position": null,
            "order": null,
            "overflow": null,
            "overflow_x": null,
            "overflow_y": null,
            "padding": null,
            "right": null,
            "top": null,
            "visibility": null,
            "width": null
          }
        },
        "7913a077005a4a569ebec65619c1b071": {
          "model_module": "@jupyter-widgets/controls",
          "model_name": "DescriptionStyleModel",
          "model_module_version": "1.5.0",
          "state": {
            "_model_module": "@jupyter-widgets/controls",
            "_model_module_version": "1.5.0",
            "_model_name": "DescriptionStyleModel",
            "_view_count": null,
            "_view_module": "@jupyter-widgets/base",
            "_view_module_version": "1.2.0",
            "_view_name": "StyleView",
            "description_width": ""
          }
        }
      }
    }
  },
  "cells": [
    {
      "cell_type": "markdown",
      "source": [
        "## Import Library"
      ],
      "metadata": {
        "id": "6d2y3P3k5Q7T"
      }
    },
    {
      "cell_type": "code",
      "execution_count": null,
      "metadata": {
        "id": "cPrCJ8dj_V73"
      },
      "outputs": [],
      "source": [
        "import pandas as pd\n",
        "import numpy as np\n",
        "import math\n",
        "from sklearn.model_selection import train_test_split\n",
        "from torchtext.vocab import GloVe, vocab\n",
        "import torchtext\n",
        "import torch\n",
        "import torch.nn as nn\n",
        "import torch.nn.functional as F\n",
        "import tensorflow as tf\n",
        "import pickle\n",
        "import math\n",
        "import matplotlib.pyplot as plt\n",
        "from sklearn.preprocessing import MinMaxScaler\n",
        "from tqdm.notebook import tqdm\n",
        "from torch.autograd import Variable\n",
        "from torch.utils.data import Dataset, DataLoader"
      ]
    },
    {
      "cell_type": "markdown",
      "source": [
        "## Cek Device"
      ],
      "metadata": {
        "id": "eB8G5NXl6EWH"
      }
    },
    {
      "cell_type": "code",
      "source": [
        "device = torch.device('cuda' if torch.cuda.is_available() else 'cpu')"
      ],
      "metadata": {
        "id": "UNWs22da_rsD"
      },
      "execution_count": null,
      "outputs": []
    },
    {
      "cell_type": "code",
      "source": [
        "torch.cuda.manual_seed(0)\n",
        "torch.backends.cudnn.deterministic = True\n",
        "torch.backends.cudnn.benchmark = False\n",
        "np.random.seed(0)"
      ],
      "metadata": {
        "id": "UcWxDRAkHaV9"
      },
      "execution_count": null,
      "outputs": []
    },
    {
      "cell_type": "code",
      "source": [
        "display(device)\n",
        "!nvcc --version\n",
        "!nvidia-smi"
      ],
      "metadata": {
        "id": "2xVabiYVHcqE"
      },
      "execution_count": null,
      "outputs": []
    },
    {
      "cell_type": "markdown",
      "source": [
        "## Dataset"
      ],
      "metadata": {
        "id": "LFoI8mJjZbfA"
      }
    },
    {
      "cell_type": "code",
      "source": [
        "pd.set_option('display.max_columns', None)"
      ],
      "metadata": {
        "id": "Qmm6WWQgHf2t"
      },
      "execution_count": null,
      "outputs": []
    },
    {
      "cell_type": "code",
      "source": [
        "from google.colab import drive\n",
        "drive.mount('/content/gdrive')"
      ],
      "metadata": {
        "colab": {
          "base_uri": "https://localhost:8080/"
        },
        "id": "FYfC-nWFHjRv",
        "outputId": "ba1623e6-44cb-448e-a6b2-2e2d4f2e8bd7"
      },
      "execution_count": null,
      "outputs": [
        {
          "output_type": "stream",
          "name": "stdout",
          "text": [
            "Drive already mounted at /content/gdrive; to attempt to forcibly remount, call drive.mount(\"/content/gdrive\", force_remount=True).\n"
          ]
        }
      ]
    },
    {
      "cell_type": "code",
      "source": [
        "dataset = pd.read_excel(\"/content/gdrive/My Drive/Skripsi/RealData.xlsx\",index_col='time',\n",
        "                      parse_dates=['time'])"
      ],
      "metadata": {
        "id": "elNiBUngHjvf"
      },
      "execution_count": null,
      "outputs": []
    },
    {
      "cell_type": "code",
      "source": [
        "dataset = dataset.astype({'Cabai Rawit':'float','Cabai Rawit Hijau (kg)':'float','Cabai Rawit Merah (kg)':'float'})\n",
        "dataset.info()"
      ],
      "metadata": {
        "colab": {
          "base_uri": "https://localhost:8080/"
        },
        "id": "1AM1S7nMIAC2",
        "outputId": "830f2a47-53e2-4668-f8cf-6015b3980992"
      },
      "execution_count": null,
      "outputs": [
        {
          "output_type": "stream",
          "name": "stdout",
          "text": [
            "<class 'pandas.core.frame.DataFrame'>\n",
            "DatetimeIndex: 363 entries, 2021-01-04 to 2022-07-29\n",
            "Data columns (total 3 columns):\n",
            " #   Column                  Non-Null Count  Dtype  \n",
            "---  ------                  --------------  -----  \n",
            " 0   Cabai Rawit             363 non-null    float64\n",
            " 1   Cabai Rawit Hijau (kg)  363 non-null    float64\n",
            " 2   Cabai Rawit Merah (kg)  363 non-null    float64\n",
            "dtypes: float64(3)\n",
            "memory usage: 11.3 KB\n"
          ]
        }
      ]
    },
    {
      "cell_type": "markdown",
      "source": [
        "## Parameter"
      ],
      "metadata": {
        "id": "bmkF5IrDZgCm"
      }
    },
    {
      "cell_type": "code",
      "source": [
        "class Parameter:\n",
        "    def __init__(self, values):\n",
        "        for value in values:\n",
        "            setattr(self, value, values[value])\n",
        "\n",
        "    def __repr__(self):\n",
        "        return 'Parameter values:\\n' + self.__dict__.__repr__()"
      ],
      "metadata": {
        "id": "-EObSIEHIsl5"
      },
      "execution_count": null,
      "outputs": []
    },
    {
      "cell_type": "code",
      "source": [
        "config = Parameter({\n",
        "    \n",
        "    # Prerocessing config\n",
        "    'train_size': 7e-1,\n",
        "    'test_size': 3e-1,\n",
        "    'sequence':21,\n",
        "    \n",
        "    # Network Models config\n",
        "    'hidden_size': 128,\n",
        "    'learning_rate' : 1e-3,\n",
        "\n",
        "})\n",
        "\n",
        "config"
      ],
      "metadata": {
        "colab": {
          "base_uri": "https://localhost:8080/"
        },
        "id": "0H1gZ9DSIs-Z",
        "outputId": "c91fab7b-a56a-471b-eca4-ec573b62c382"
      },
      "execution_count": null,
      "outputs": [
        {
          "output_type": "execute_result",
          "data": {
            "text/plain": [
              "Parameter values:\n",
              "{'train_size': 0.7, 'test_size': 0.3, 'sequence': 21, 'hidden_size': 128, 'learning_rate': 0.001}"
            ]
          },
          "metadata": {},
          "execution_count": 68
        }
      ]
    },
    {
      "cell_type": "markdown",
      "source": [
        "## Preprocessing"
      ],
      "metadata": {
        "id": "E1bFo0RGZjpa"
      }
    },
    {
      "cell_type": "code",
      "source": [
        "class PreProcessing:\n",
        "    def __init__(self, dataset, target):\n",
        "        \n",
        "        self.nData, self.nFeature = dataset.shape\n",
        "        self.target = target\n",
        "        self.index = [dataset.columns.get_loc(col) for col in dataset if col in target]\n",
        "        \n",
        "        self.minMaxValuesDataset = []\n",
        "        self.xTicksTrain = self.yTicksTrain = self.xTicksTest = self.yTicksTest = None\n",
        "\n",
        "    def TrainTestSplit(self, dataset, train_size=config.train_size, test_size=config.test_size):\n",
        "\n",
        "        nData = int(dataset.shape[0]*train_size)\n",
        "        _X_train = dataset.iloc[:nData, :]\n",
        "        _y_train = dataset[[self.target]].iloc[:nData, :]\n",
        "        _X_test = dataset.iloc[nData:, :]\n",
        "        _y_test = dataset[[self.target]].iloc[nData:, :]\n",
        "        \n",
        "        return _X_train, _y_train, _X_test, _y_test\n",
        "\n",
        "    def MinMaxNormaliasi(self, X_train, y_train, X_test, y_test):\n",
        "       \n",
        "        self.minMaxValuesDataset.append(dataset.min(axis=0))\n",
        "        self.minMaxValuesDataset.append(dataset.max(axis=0))\n",
        "        \n",
        "        _X_train = (X_train - dataset.min(axis=0)) / (dataset.max(axis=0) - dataset.min(axis=0))\n",
        "        _y_train = (y_train - self.minMaxValuesDataset[0][self.index]) / (self.minMaxValuesDataset[1][self.index] - self.minMaxValuesDataset[0][self.index])\n",
        "        \n",
        "        _X_test = (X_test - dataset.min(axis=0)) / (dataset.max(axis=0) - dataset.min(axis=0))\n",
        "        _y_test = (y_test - self.minMaxValuesDataset[0][self.index]) / (self.minMaxValuesDataset[1][self.index] - self.minMaxValuesDataset[0][self.index])\n",
        "        \n",
        "        return self.minMaxValuesDataset, _X_train, _y_train, _X_test, _y_test\n",
        "\n",
        "    def DeNormaliasiMinMax(self, X):\n",
        "        denorm = (X * (self.minMaxValuesDataset[1][self.index] - self.minMaxValuesDataset[0][self.index]) + self.minMaxValuesDataset[0][self.index])\n",
        "        return denorm\n",
        "\n",
        "    def SequenceDataset(self,X_dataset, y_Dataset, seq_len,mode=True):\n",
        "\n",
        "        X_dataset_values = X_dataset.iloc[:,:].values\n",
        "        y_Dataset_values = y_Dataset.iloc[:,:].values\n",
        "        _nRow, _nFeature = X_dataset.shape\n",
        "        _nStep = seq_len // seq_len\n",
        "        _X_Dataset, _y_Dataset = [], []\n",
        "                        \n",
        "        for i in range(len(X_dataset)-seq_len):\n",
        "            _X_Dataset.append(X_dataset_values[i:i+seq_len])\n",
        "            _y_Dataset.append(y_Dataset_values[i+seq_len])\n",
        "        _Xt_dataset = np.stack(_X_Dataset)\n",
        "        _yt_dataset = np.array(_y_Dataset)\n",
        "\n",
        "        if hasattr(X_dataset, 'index'):\n",
        "            if mode:\n",
        "                self.xTicksTrain = X_dataset.iloc[:_Xt_dataset.shape[0], :].index\n",
        "                self.yTicksTrain = y_Dataset.iloc[:_Xt_dataset.shape[0], :].index\n",
        "            else:\n",
        "                self.xTicksTest = X_dataset.iloc[:_Xt_dataset.shape[0], :].index\n",
        "                self.yTicksTest = y_Dataset.iloc[:_Xt_dataset.shape[0], :].index\n",
        "        \n",
        "        print('\\nData')\n",
        "        print(f'(N, S, F): ({_Xt_dataset.shape[0]}, {seq_len}, {_Xt_dataset.shape[1]})')\n",
        "        return np.array(_Xt_dataset), np.array(_yt_dataset)"
      ],
      "metadata": {
        "id": "wtK_lEK-IzcW"
      },
      "execution_count": null,
      "outputs": []
    },
    {
      "cell_type": "markdown",
      "source": [
        "## LSTM"
      ],
      "metadata": {
        "id": "gNdMAjztZq-X"
      }
    },
    {
      "cell_type": "code",
      "source": [
        "import math\n",
        "\n",
        "class LSTM(nn.Module):\n",
        "    def __init__(self, input_sz, hidden_sz):\n",
        "        super().__init__()\n",
        "        self.input_sz = input_sz\n",
        "        self.hidden_size = hidden_sz\n",
        "        self.W = nn.Parameter(torch.Tensor(input_sz, hidden_sz * 4))\n",
        "        self.U = nn.Parameter(torch.Tensor(hidden_sz, hidden_sz * 4))\n",
        "        self.bias = nn.Parameter(torch.Tensor(hidden_sz * 4))\n",
        "        self.init_weight()\n",
        "                \n",
        "    def init_weight(self):\n",
        "        stdv = 1.0 / math.sqrt(self.hidden_size)\n",
        "        for weight in self.parameters():\n",
        "            weight.data.uniform_(-stdv, stdv)\n",
        "\n",
        "    def forward(self, x, \n",
        "                init_states=None):\n",
        "        \"\"\"Assumes x is of shape (batch, sequence, feature)\"\"\"\n",
        "        bs, seq_sz,fn= x.shape\n",
        "        hidden_seq = []\n",
        "        if init_states is None:\n",
        "            hidden_state, cell_state = (\n",
        "                torch.zeros(bs, self.hidden_size).to(x.device),\n",
        "                torch.zeros(bs, self.hidden_size).to(x.device),\n",
        "            )\n",
        "        else:\n",
        "            hidden_state, cell_state = init_states\n",
        "        HS = self.hidden_size\n",
        "        for t in range(seq_sz):\n",
        "              x_t = x[:,t,:]\n",
        "              # batch the computations into a single matrix multiplication\n",
        "              gates = x_t.float() @ self.W + hidden_state @ self.U + self.bias\n",
        "              input_gate, forgate_gate, c_cell_state, output_gate = (\n",
        "                  torch.sigmoid(gates[:, :HS]), # perhitungan input gate\n",
        "                  torch.sigmoid(gates[:, HS:HS*2]), # perhitungan forgate gate\n",
        "                  torch.tanh(gates[:, HS*2:HS*3]), #perhitungangan c'cell state\n",
        "                  torch.sigmoid(gates[:, HS*3:]), # output\n",
        "              )\n",
        "              cell_state = forgate_gate * cell_state + input_gate * c_cell_state\n",
        "              hidden_state = output_gate * torch.tanh(cell_state)\n",
        "              cache = Parameter({\n",
        "              'input_gate': input_gate,\n",
        "              'forgate_gate': forgate_gate,\n",
        "              'c_cell_state': c_cell_state,\n",
        "              'output_gate': output_gate,\n",
        "               })\n",
        "              hidden_seq.append(hidden_state.unsqueeze(0))\n",
        "        hidden_seq = torch.cat(hidden_seq, dim=0)\n",
        "        # reshape from shape (sequence, batch, feature) to (batch, sequence, feature)\n",
        "        hidden_seq = hidden_seq.transpose(0, 1).contiguous()\n",
        "        return hidden_seq, (hidden_state, cell_state),cache"
      ],
      "metadata": {
        "id": "mMr0D-lwIz6n"
      },
      "execution_count": null,
      "outputs": []
    },
    {
      "cell_type": "markdown",
      "source": [
        "## Network"
      ],
      "metadata": {
        "id": "F4pyxvYyZtZZ"
      }
    },
    {
      "cell_type": "code",
      "source": [
        "class Network(nn.Module):\n",
        "    def __init__(self, input_size, output_size, hidden_size):\n",
        "        super().__init__  () \n",
        "        self.lstm = LSTM(input_size,hidden_size)\n",
        "        self.fc = nn.Linear(hidden_size, output_size)\n",
        "\n",
        "    def forward(self, x, hidden):\n",
        "        _xlstm, (h_n_lstm, c_n_lstm),cache = self.lstm(x, hidden)\n",
        "        _x = _xlstm[:, -1, :]\n",
        "        _x = self.fc((_x))\n",
        "        \n",
        "        return _x"
      ],
      "metadata": {
        "id": "dPojICinI66S"
      },
      "execution_count": null,
      "outputs": []
    },
    {
      "cell_type": "markdown",
      "source": [
        "## MSE"
      ],
      "metadata": {
        "id": "DwdROLZqZwCC"
      }
    },
    {
      "cell_type": "code",
      "source": [
        "def MSELoss(output,prediksi):\n",
        "  MSE = nn.MSELoss()\n",
        "  return MSE(output,prediksi)"
      ],
      "metadata": {
        "id": "hD_OAkUZJDIw"
      },
      "execution_count": null,
      "outputs": []
    },
    {
      "cell_type": "markdown",
      "source": [
        "## Training"
      ],
      "metadata": {
        "id": "NmuF0FRvZ1YO"
      }
    },
    {
      "cell_type": "code",
      "source": [
        "Pengujian = PreProcessing(dataset, 'Cabai Rawit')\n",
        "X_trainPengujian, y_trainPengujian, X_testPengujian, y_testPengujian = Pengujian.TrainTestSplit(dataset)\n",
        "MinMaxValuesDatasetPengujian, X_trainPengujian, y_trainPengujian, X_testPengujian, y_testPengujian = Pengujian.MinMaxNormaliasi(X_trainPengujian, y_trainPengujian, X_testPengujian, y_testPengujian)\n"
      ],
      "metadata": {
        "id": "gRPGVCFxJDf_"
      },
      "execution_count": null,
      "outputs": []
    },
    {
      "cell_type": "code",
      "source": [
        "train_setPengujian = Pengujian.SequenceDataset(X_trainPengujian, y_trainPengujian,config.sequence,1)\n",
        "test_setPengujian = Pengujian.SequenceDataset(X_testPengujian, y_testPengujian,config.sequence,0)"
      ],
      "metadata": {
        "id": "9uf9mTxwJGFc"
      },
      "execution_count": null,
      "outputs": []
    },
    {
      "cell_type": "code",
      "source": [
        "dataX_train,dataY_train = train_setPengujian\n",
        "dataX_test,dataY_test = test_setPengujian\n",
        "dataX_train,dataY_train = torch.Tensor(np.array(dataX_train)),torch.Tensor(np.array(dataY_train))\n",
        "dataX_test,dataY_test = torch.Tensor(np.array(dataX_test)),torch.Tensor(np.array(dataY_test))"
      ],
      "metadata": {
        "id": "9TwODUuSJHmE"
      },
      "execution_count": null,
      "outputs": []
    },
    {
      "cell_type": "code",
      "source": [
        "data_train = dataX_train,dataY_train\n",
        "data_test = dataX_test,dataY_test"
      ],
      "metadata": {
        "id": "ENjRRiHDJKdO"
      },
      "execution_count": null,
      "outputs": []
    },
    {
      "cell_type": "code",
      "source": [
        "y_testPengujian = y_testPengujian.to_numpy()\n",
        "X_trainPengujian=X_trainPengujian.to_numpy()"
      ],
      "metadata": {
        "id": "T8rhT4yVJPdI"
      },
      "execution_count": null,
      "outputs": []
    },
    {
      "cell_type": "code",
      "source": [
        "torch.set_printoptions(sci_mode=False)\n",
        "X_trainNormalized = torch.from_numpy(X_trainPengujian)\n",
        "y_trainNormalized = torch.from_numpy(np.asarray(y_trainPengujian))\n",
        "X_trainNormalized.shape,y_trainNormalized.shape"
      ],
      "metadata": {
        "id": "jbFpvCwgJXwG",
        "colab": {
          "base_uri": "https://localhost:8080/"
        },
        "outputId": "9ef5f26d-4240-45f3-e36a-c6349009ddf1"
      },
      "execution_count": null,
      "outputs": [
        {
          "output_type": "execute_result",
          "data": {
            "text/plain": [
              "(torch.Size([254, 3]), torch.Size([254, 1]))"
            ]
          },
          "metadata": {},
          "execution_count": 78
        }
      ]
    },
    {
      "cell_type": "code",
      "source": [
        "lstm = Network(3,1,1)\n",
        "lstm.state_dict()"
      ],
      "metadata": {
        "colab": {
          "base_uri": "https://localhost:8080/"
        },
        "id": "ul4WgmYxJeFK",
        "outputId": "55bbddbd-2e6b-46fb-ea8d-97cd04f02851"
      },
      "execution_count": null,
      "outputs": [
        {
          "output_type": "execute_result",
          "data": {
            "text/plain": [
              "OrderedDict([('lstm.W', tensor([[-0.3183,  0.5415,  0.5284,  0.7083],\n",
              "                      [-0.1981,  0.4452,  0.0062,  0.4316],\n",
              "                      [-0.5202,  0.6303, -0.5841, -0.2379]])),\n",
              "             ('lstm.U', tensor([[-0.3871, -0.9014, -0.3349, -0.7202]])),\n",
              "             ('lstm.bias', tensor([-0.8943, -0.0850, -0.0174, -0.9725])),\n",
              "             ('fc.weight', tensor([[-0.5518]])),\n",
              "             ('fc.bias', tensor([-0.4744]))])"
            ]
          },
          "metadata": {},
          "execution_count": 79
        }
      ]
    },
    {
      "cell_type": "markdown",
      "source": [
        "## Epoch"
      ],
      "metadata": {
        "id": "uy6rw4h8aAMc"
      }
    },
    {
      "cell_type": "code",
      "source": [
        "i=0\n",
        "cost_train = 0\n",
        "cost_test = 0\n",
        "num_epochs = 50\n",
        "criterion = MSELoss\n",
        "model = Network(3,1,config.hidden_size)\n",
        "optimizer = torch.optim.Adam(model.parameters(), lr=config.learning_rate)\n",
        "scheduler = torch.optim.lr_scheduler.StepLR(optimizer,step_size=20, gamma=0.9)\n"
      ],
      "metadata": {
        "id": "VX6bnjSBJhgC"
      },
      "execution_count": null,
      "outputs": []
    },
    {
      "cell_type": "code",
      "source": [
        "def loop_fnPengujian(dataset, model, criterion, optimizer):\n",
        "    loop = \"train\"\n",
        "    cost = 0\n",
        "    feature, target = dataset\n",
        "    if loop == \"train\":\n",
        "        optimizer.zero_grad()\n",
        "        output = model(feature, None)\n",
        "        loss = criterion(output, target)\n",
        "        cost += loss\n",
        "        loss.backward()\n",
        "        optimizer.step()\n",
        "  \n",
        "    return cost, output, target"
      ],
      "metadata": {
        "id": "Sv7x9j6pJj3I"
      },
      "execution_count": null,
      "outputs": []
    },
    {
      "cell_type": "code",
      "source": [
        "i, epoch = 0, 150\n",
        "train_predsPengujian, train_targetsPengujian = np.empty(0, dtype=np.float64), np.empty(0, dtype=np.float64)\n",
        "test_predsPengujian, test_targetsPengujian = np.empty(0, dtype=np.float64), np.empty(0, dtype=np.float64)\n",
        "train_costPengujian, test_costPengujian = np.empty(0, dtype=np.float64), np.empty(0, dtype=np.float64)\n",
        "valid_correct=0\n",
        "\n",
        "with tqdm(total=epoch) as bar:\n",
        "    while i < epoch:\n",
        "        train_lossPengujian, train_outputPengujian, train_targetsPengujian = loop_fnPengujian(data_train, model, criterion, optimizer)\n",
        "        test_lossPengujian, test_outputPengujian, test_targetsPengujian = loop_fnPengujian(data_test, model, criterion, optimizer)\n",
        "        train_costPengujian = np.append(train_costPengujian,train_lossPengujian.detach().numpy())\n",
        "        test_costPengujian = np.append(test_costPengujian, test_lossPengujian.detach().numpy())\n",
        "        # scheduler.step()\n",
        "        valid_correct += test_outputPengujian.eq(test_targetsPengujian.view_as(test_outputPengujian)).sum().item()\n",
        "        train_predsPengujian  = train_outputPengujian\n",
        "        train_targetsPengujian = train_targetsPengujian\n",
        "        test_predsPengujian  = test_outputPengujian\n",
        "        test_targetsPengujian = test_targetsPengujian\n",
        "        # Print epoch\n",
        "        i+=1\n",
        "        # if i % 10 == 0:\n",
        "        print(f'epoch {i} train: {train_lossPengujian} test: {test_lossPengujian}')\n",
        "            \n",
        "        bar.set_description('epoch: %d' % (i))\n",
        "        bar.update(1)\n",
        "        "
      ],
      "metadata": {
        "colab": {
          "base_uri": "https://localhost:8080/",
          "height": 1000,
          "referenced_widgets": [
            "fc4b05f36de1441ebcc64988fbf2e585",
            "7c65ed18f6a5470f917eb196c3d6feb0",
            "5be17ec1a43a46328445b67c1e10106c",
            "999c2a149a8248769277cc1468612405",
            "b1b6b24c0592412591bec8f28edbaf08",
            "71de754c5fb44d039b9d0a3af8c3d42c",
            "2a061a72796c498bbda251d270d0e488",
            "4e8898e470264e9192d73f64a43bc07b",
            "bc7959fa9c994ca58d8a13e2dac7c7e3",
            "42df1b616ce14f14a6b7c968eb2eb926",
            "7913a077005a4a569ebec65619c1b071"
          ]
        },
        "id": "CCD88Ai8JmHj",
        "outputId": "68e258d9-81ef-4ea5-9b04-90c0db105dd1"
      },
      "execution_count": null,
      "outputs": [
        {
          "output_type": "display_data",
          "data": {
            "text/plain": [
              "  0%|          | 0/150 [00:00<?, ?it/s]"
            ],
            "application/vnd.jupyter.widget-view+json": {
              "version_major": 2,
              "version_minor": 0,
              "model_id": "fc4b05f36de1441ebcc64988fbf2e585"
            }
          },
          "metadata": {}
        },
        {
          "output_type": "stream",
          "name": "stdout",
          "text": [
            "epoch 1 train: 0.1991792470216751 test: 0.4024730920791626\n",
            "epoch 2 train: 0.16868692636489868 test: 0.3497277498245239\n",
            "epoch 3 train: 0.14213144779205322 test: 0.29990342259407043\n",
            "epoch 4 train: 0.11708375811576843 test: 0.24978332221508026\n",
            "epoch 5 train: 0.09227252006530762 test: 0.19615478813648224\n",
            "epoch 6 train: 0.06696223467588425 test: 0.13577601313591003\n",
            "epoch 7 train: 0.04242049902677536 test: 0.06914663314819336\n",
            "epoch 8 train: 0.03136179968714714 test: 0.030606497079133987\n",
            "epoch 9 train: 0.07764386385679245 test: 0.0486331544816494\n",
            "epoch 10 train: 0.05447239428758621 test: 0.027131684124469757\n",
            "epoch 11 train: 0.030687062069773674 test: 0.03356066718697548\n",
            "epoch 12 train: 0.025875505059957504 test: 0.04315144941210747\n",
            "epoch 13 train: 0.025312349200248718 test: 0.04616250842809677\n",
            "epoch 14 train: 0.02434924617409706 test: 0.04245680198073387\n",
            "epoch 15 train: 0.02247815951704979 test: 0.03413435071706772\n",
            "epoch 16 train: 0.02058464288711548 test: 0.02452724426984787\n",
            "epoch 17 train: 0.020229822024703026 test: 0.018166396766901016\n",
            "epoch 18 train: 0.022384295240044594 test: 0.017711501568555832\n",
            "epoch 19 train: 0.024292828515172005 test: 0.01809142343699932\n",
            "epoch 20 train: 0.021651387214660645 test: 0.015625886619091034\n",
            "epoch 21 train: 0.017096536234021187 test: 0.01493677869439125\n",
            "epoch 22 train: 0.014390548691153526 test: 0.016411274671554565\n",
            "epoch 23 train: 0.013260937295854092 test: 0.017168749123811722\n",
            "epoch 24 train: 0.012464665807783604 test: 0.01591007225215435\n",
            "epoch 25 train: 0.011591896414756775 test: 0.013630715198814869\n",
            "epoch 26 train: 0.010991549119353294 test: 0.012477788142859936\n",
            "epoch 27 train: 0.01088037621229887 test: 0.012896298430860043\n",
            "epoch 28 train: 0.010481676086783409 test: 0.012636757455766201\n",
            "epoch 29 train: 0.009448249824345112 test: 0.011939406394958496\n",
            "epoch 30 train: 0.008706393651664257 test: 0.012132412753999233\n",
            "epoch 31 train: 0.0084273312240839 test: 0.012311878614127636\n",
            "epoch 32 train: 0.00812413077801466 test: 0.011827874928712845\n",
            "epoch 33 train: 0.007717284373939037 test: 0.01142079010605812\n",
            "epoch 34 train: 0.0074489363469183445 test: 0.011535834521055222\n",
            "epoch 35 train: 0.007260000333189964 test: 0.011335976421833038\n",
            "epoch 36 train: 0.0070200092159211636 test: 0.010872059501707554\n",
            "epoch 37 train: 0.00688876211643219 test: 0.010687027126550674\n",
            "epoch 38 train: 0.0068158842623233795 test: 0.010477296076714993\n",
            "epoch 39 train: 0.006646562833338976 test: 0.01012579258531332\n",
            "epoch 40 train: 0.006448244210332632 test: 0.009895730763673782\n",
            "epoch 41 train: 0.006315190345048904 test: 0.009678266011178493\n",
            "epoch 42 train: 0.0062036290764808655 test: 0.00930620077997446\n",
            "epoch 43 train: 0.0061085824854671955 test: 0.008977392688393593\n",
            "epoch 44 train: 0.006037883926182985 test: 0.008711724542081356\n",
            "epoch 45 train: 0.005938333924859762 test: 0.008407951332628727\n",
            "epoch 46 train: 0.005811320152133703 test: 0.008123165927827358\n",
            "epoch 47 train: 0.00570002431049943 test: 0.00786739680916071\n",
            "epoch 48 train: 0.005598839838057756 test: 0.0075784665532410145\n",
            "epoch 49 train: 0.005497814621776342 test: 0.007305900566279888\n",
            "epoch 50 train: 0.005402669310569763 test: 0.007069016806781292\n",
            "epoch 51 train: 0.005298518110066652 test: 0.006827820558100939\n",
            "epoch 52 train: 0.005185794550925493 test: 0.006605183705687523\n",
            "epoch 53 train: 0.005079836118966341 test: 0.006409551482647657\n",
            "epoch 54 train: 0.004975512623786926 test: 0.006230069324374199\n",
            "epoch 55 train: 0.004872312769293785 test: 0.006091488990932703\n",
            "epoch 56 train: 0.004773486405611038 test: 0.005979975685477257\n",
            "epoch 57 train: 0.004676798824220896 test: 0.005892680957913399\n",
            "epoch 58 train: 0.004587349947541952 test: 0.005842794198542833\n",
            "epoch 59 train: 0.004498737398535013 test: 0.0058156405575573444\n",
            "epoch 60 train: 0.004409135784953833 test: 0.005806167144328356\n",
            "epoch 61 train: 0.00432342104613781 test: 0.005792581010609865\n",
            "epoch 62 train: 0.004241954069584608 test: 0.005776722449809313\n",
            "epoch 63 train: 0.004164357203990221 test: 0.005756670609116554\n",
            "epoch 64 train: 0.004091332200914621 test: 0.005731901153922081\n",
            "epoch 65 train: 0.004028368275612593 test: 0.005702412221580744\n",
            "epoch 66 train: 0.003975020721554756 test: 0.005667919293045998\n",
            "epoch 67 train: 0.003930678591132164 test: 0.005629947409033775\n",
            "epoch 68 train: 0.0038939709775149822 test: 0.005586019717156887\n",
            "epoch 69 train: 0.0038637241814285517 test: 0.0055380347184836864\n",
            "epoch 70 train: 0.003838702104985714 test: 0.005485341884195805\n",
            "epoch 71 train: 0.0038180470000952482 test: 0.0054298583418130875\n",
            "epoch 72 train: 0.0038006387185305357 test: 0.005373428575694561\n",
            "epoch 73 train: 0.0037844853941351175 test: 0.005318020936101675\n",
            "epoch 74 train: 0.0037692368496209383 test: 0.005263837985694408\n",
            "epoch 75 train: 0.003755055833607912 test: 0.0052106198854744434\n",
            "epoch 76 train: 0.0037410680670291185 test: 0.005160215776413679\n",
            "epoch 77 train: 0.003725243965163827 test: 0.005113677121698856\n",
            "epoch 78 train: 0.00370692927390337 test: 0.005070297978818417\n",
            "epoch 79 train: 0.0036873449571430683 test: 0.005028219427913427\n",
            "epoch 80 train: 0.003667182521894574 test: 0.00498740840703249\n",
            "epoch 81 train: 0.0036456722300499678 test: 0.004948968067765236\n",
            "epoch 82 train: 0.003622146788984537 test: 0.004912704229354858\n",
            "epoch 83 train: 0.003597669769078493 test: 0.004877045750617981\n",
            "epoch 84 train: 0.0035737715661525726 test: 0.0048408894799649715\n",
            "epoch 85 train: 0.0035507166758179665 test: 0.0048047928139567375\n",
            "epoch 86 train: 0.003527867142111063 test: 0.004769250750541687\n",
            "epoch 87 train: 0.003505291882902384 test: 0.004733571317046881\n",
            "epoch 88 train: 0.0034839706495404243 test: 0.004696687683463097\n",
            "epoch 89 train: 0.00346438679844141 test: 0.004658660385757685\n",
            "epoch 90 train: 0.0034459822345525026 test: 0.004620297346264124\n",
            "epoch 91 train: 0.0034281739499419928 test: 0.004581761546432972\n",
            "epoch 92 train: 0.0034112203866243362 test: 0.004542502574622631\n",
            "epoch 93 train: 0.003395523177459836 test: 0.00450241519138217\n",
            "epoch 94 train: 0.0033807496074587107 test: 0.004462229087948799\n",
            "epoch 95 train: 0.0033662142232060432 test: 0.004422460217028856\n",
            "epoch 96 train: 0.0033518155105412006 test: 0.00438286317512393\n",
            "epoch 97 train: 0.0033378861844539642 test: 0.004343181382864714\n",
            "epoch 98 train: 0.003324361052364111 test: 0.0043038055300712585\n",
            "epoch 99 train: 0.003310764441266656 test: 0.004265170078724623\n",
            "epoch 100 train: 0.00329696130938828 test: 0.004227107390761375\n",
            "epoch 101 train: 0.0032832836732268333 test: 0.004189262166619301\n",
            "epoch 102 train: 0.0032698761206120253 test: 0.004151740577071905\n",
            "epoch 103 train: 0.003256511176005006 test: 0.004114824812859297\n",
            "epoch 104 train: 0.003243115497753024 test: 0.004078391473740339\n",
            "epoch 105 train: 0.0032299698796123266 test: 0.004042122047394514\n",
            "epoch 106 train: 0.0032172619830816984 test: 0.0040060291066765785\n",
            "epoch 107 train: 0.0032048693392425776 test: 0.003970320336520672\n",
            "epoch 108 train: 0.0031927088275551796 test: 0.003934953827410936\n",
            "epoch 109 train: 0.0031809499487280846 test: 0.0038997367955744267\n",
            "epoch 110 train: 0.0031697084195911884 test: 0.003864696715027094\n",
            "epoch 111 train: 0.003158867359161377 test: 0.0038300352171063423\n",
            "epoch 112 train: 0.0031483271159231663 test: 0.003795774420723319\n",
            "epoch 113 train: 0.0031381691806018353 test: 0.0037618204951286316\n",
            "epoch 114 train: 0.0031284482683986425 test: 0.00372823397628963\n",
            "epoch 115 train: 0.003119060769677162 test: 0.0036951834335923195\n",
            "epoch 116 train: 0.003109929384663701 test: 0.0036626982036978006\n",
            "epoch 117 train: 0.003101111389696598 test: 0.0036307298578321934\n",
            "epoch 118 train: 0.003092639846727252 test: 0.0035993331111967564\n",
            "epoch 119 train: 0.003084450028836727 test: 0.003568624844774604\n",
            "epoch 120 train: 0.003076504683122039 test: 0.0035386187955737114\n",
            "epoch 121 train: 0.0030688538681715727 test: 0.003509280737489462\n",
            "epoch 122 train: 0.0030615217983722687 test: 0.0034806563053280115\n",
            "epoch 123 train: 0.003054463304579258 test: 0.003452825592830777\n",
            "epoch 124 train: 0.0030476583633571863 test: 0.003425785107538104\n",
            "epoch 125 train: 0.00304114050231874 test: 0.003399515990167856\n",
            "epoch 126 train: 0.003034902736544609 test: 0.00337406643666327\n",
            "epoch 127 train: 0.0030288989655673504 test: 0.003349475795403123\n",
            "epoch 128 train: 0.0030231091659516096 test: 0.003325737314298749\n",
            "epoch 129 train: 0.0030175368301570415 test: 0.0033028351608663797\n",
            "epoch 130 train: 0.0030121502932161093 test: 0.003280801232904196\n",
            "epoch 131 train: 0.0030069032218307257 test: 0.0032596394885331392\n",
            "epoch 132 train: 0.00300177582539618 test: 0.00323932315222919\n",
            "epoch 133 train: 0.0029967552982270718 test: 0.0032198333647102118\n",
            "epoch 134 train: 0.0029918081127107143 test: 0.00320116663351655\n",
            "epoch 135 train: 0.0029868995770812035 test: 0.0031833015382289886\n",
            "epoch 136 train: 0.0029820213094353676 test: 0.0031661875545978546\n",
            "epoch 137 train: 0.0029771612025797367 test: 0.003149803029373288\n",
            "epoch 138 train: 0.0029722941108047962 test: 0.0031341202557086945\n",
            "epoch 139 train: 0.0029674095567315817 test: 0.0031190996523946524\n",
            "epoch 140 train: 0.0029625059105455875 test: 0.0031046979129314423\n",
            "epoch 141 train: 0.0029575766529887915 test: 0.003090890357270837\n",
            "epoch 142 train: 0.0029526129364967346 test: 0.0030776404310017824\n",
            "epoch 143 train: 0.002947617555037141 test: 0.003064915770664811\n",
            "epoch 144 train: 0.002942592604085803 test: 0.003052681451663375\n",
            "epoch 145 train: 0.0029375378508120775 test: 0.003040913725271821\n",
            "epoch 146 train: 0.0029324532952159643 test: 0.003029582090675831\n",
            "epoch 147 train: 0.0029273489490151405 test: 0.0030186548829078674\n",
            "epoch 148 train: 0.0029222287703305483 test: 0.003008113009855151\n",
            "epoch 149 train: 0.002917094388976693 test: 0.0029979282990098\n",
            "epoch 150 train: 0.0029119527898728848 test: 0.0029880753718316555\n"
          ]
        }
      ]
    },
    {
      "cell_type": "code",
      "source": [
        "print(f'MSE: {np.around(test_costPengujian.mean(), 10)}')"
      ],
      "metadata": {
        "colab": {
          "base_uri": "https://localhost:8080/"
        },
        "id": "wzGIPyzzGQ2j",
        "outputId": "27eaa2ae-9eac-4e92-f0b4-e509232c323e"
      },
      "execution_count": null,
      "outputs": [
        {
          "output_type": "stream",
          "name": "stdout",
          "text": [
            "MSE: 0.0191447475\n"
          ]
        }
      ]
    },
    {
      "cell_type": "code",
      "source": [
        "train_target_denorm = np.array([], dtype=np.float64)\n",
        "train_pred_denorm = np.array([], dtype=np.float64)\n",
        "\n",
        "for x in range(train_targetsPengujian.shape[0]):\n",
        "    train_target_denorm = np.append(train_target_denorm, Pengujian.DeNormaliasiMinMax(train_targetsPengujian[x].detach().numpy()).values)\n",
        "    train_pred_denorm = np.append(train_pred_denorm, Pengujian.DeNormaliasiMinMax(train_predsPengujian[x].detach().numpy()).values)\n",
        "\n",
        "test_target_denorm = np.array([], dtype=np.float64)\n",
        "test_pred_denorm = np.array([], dtype=np.float64)\n",
        "\n",
        "for x in range(test_targetsPengujian.shape[0]):\n",
        "    test_target_denorm = np.append(test_target_denorm, Pengujian.DeNormaliasiMinMax(test_targetsPengujian[x]).values)\n",
        "    test_pred_denorm = np.append(test_pred_denorm, Pengujian.DeNormaliasiMinMax(test_predsPengujian[x].detach().numpy()).values)"
      ],
      "metadata": {
        "id": "ca_U0fzwRhtW"
      },
      "execution_count": null,
      "outputs": []
    },
    {
      "cell_type": "code",
      "source": [
        "arr = np.stack((train_pred_denorm, train_pred_denorm), axis=1)"
      ],
      "metadata": {
        "id": "tr9kJUJJRlO-"
      },
      "execution_count": null,
      "outputs": []
    },
    {
      "cell_type": "code",
      "source": [
        "import sys\n",
        "import numpy\n",
        "numpy.set_printoptions(threshold=sys.maxsize)\n",
        "arr"
      ],
      "metadata": {
        "id": "p0iVpgQqSRrb",
        "colab": {
          "base_uri": "https://localhost:8080/"
        },
        "outputId": "74980f97-c79a-4c95-ee63-e31e75116895"
      },
      "execution_count": null,
      "outputs": [
        {
          "output_type": "execute_result",
          "data": {
            "text/plain": [
              "array([[68454.51955497, 68454.51955497],\n",
              "       [66080.77336848, 66080.77336848],\n",
              "       [64466.27271175, 64466.27271175],\n",
              "       [63570.80881298, 63570.80881298],\n",
              "       [63351.95739567, 63351.95739567],\n",
              "       [62916.32500291, 62916.32500291],\n",
              "       [62939.03832138, 62939.03832138],\n",
              "       [62649.17646348, 62649.17646348],\n",
              "       [62261.17742062, 62261.17742062],\n",
              "       [64977.27622092, 64977.27622092],\n",
              "       [67133.10730457, 67133.10730457],\n",
              "       [68734.33691263, 68734.33691263],\n",
              "       [70646.5460062 , 70646.5460062 ],\n",
              "       [71735.83139479, 71735.83139479],\n",
              "       [72082.109496  , 72082.109496  ],\n",
              "       [72171.52972519, 72171.52972519],\n",
              "       [72058.75438452, 72058.75438452],\n",
              "       [71559.89219248, 71559.89219248],\n",
              "       [70634.91021097, 70634.91021097],\n",
              "       [63587.41630614, 63587.41630614],\n",
              "       [65759.16473567, 65759.16473567],\n",
              "       [71326.60922408, 71326.60922408],\n",
              "       [77401.96694434, 77401.96694434],\n",
              "       [81904.21965718, 81904.21965718],\n",
              "       [82125.13712049, 82125.13712049],\n",
              "       [79789.67872262, 79789.67872262],\n",
              "       [76254.46301699, 76254.46301699],\n",
              "       [73421.86999321, 73421.86999321],\n",
              "       [72873.8271147 , 72873.8271147 ],\n",
              "       [73780.12236953, 73780.12236953],\n",
              "       [76321.60511613, 76321.60511613],\n",
              "       [79006.15935028, 79006.15935028],\n",
              "       [79186.61747873, 79186.61747873],\n",
              "       [77915.4804796 , 77915.4804796 ],\n",
              "       [75649.24781024, 75649.24781024],\n",
              "       [72056.7279011 , 72056.7279011 ],\n",
              "       [67582.63935149, 67582.63935149],\n",
              "       [64092.38871932, 64092.38871932],\n",
              "       [61625.53858757, 61625.53858757],\n",
              "       [59108.5934341 , 59108.5934341 ],\n",
              "       [55793.64021122, 55793.64021122],\n",
              "       [52351.68450326, 52351.68450326],\n",
              "       [51065.97528607, 51065.97528607],\n",
              "       [51344.59917247, 51344.59917247],\n",
              "       [52026.70865506, 52026.70865506],\n",
              "       [52660.69904715, 52660.69904715],\n",
              "       [52081.85449988, 52081.85449988],\n",
              "       [50835.41114628, 50835.41114628],\n",
              "       [51504.031986  , 51504.031986  ],\n",
              "       [51092.66024828, 51092.66024828],\n",
              "       [46552.29118466, 46552.29118466],\n",
              "       [43285.79553217, 43285.79553217],\n",
              "       [40032.63906389, 40032.63906389],\n",
              "       [37576.22905821, 37576.22905821],\n",
              "       [35406.18401766, 35406.18401766],\n",
              "       [34308.22343379, 34308.22343379],\n",
              "       [34475.65228492, 34475.65228492],\n",
              "       [34778.25109661, 34778.25109661],\n",
              "       [35165.96660763, 35165.96660763],\n",
              "       [35503.38708609, 35503.38708609],\n",
              "       [35531.90291673, 35531.90291673],\n",
              "       [35672.81164974, 35672.81164974],\n",
              "       [36029.35843915, 36029.35843915],\n",
              "       [36093.71137619, 36093.71137619],\n",
              "       [36219.27861869, 36219.27861869],\n",
              "       [35022.74566144, 35022.74566144],\n",
              "       [33127.32429057, 33127.32429057],\n",
              "       [31995.9443137 , 31995.9443137 ],\n",
              "       [30122.96811491, 30122.96811491],\n",
              "       [28789.13651034, 28789.13651034],\n",
              "       [27723.94253686, 27723.94253686],\n",
              "       [26916.20426998, 26916.20426998],\n",
              "       [26519.59926635, 26519.59926635],\n",
              "       [26100.66173412, 26100.66173412],\n",
              "       [25736.36177741, 25736.36177741],\n",
              "       [25495.67181431, 25495.67181431],\n",
              "       [25887.33259402, 25887.33259402],\n",
              "       [26361.16430908, 26361.16430908],\n",
              "       [26889.90174606, 26889.90174606],\n",
              "       [27335.29071137, 27335.29071137],\n",
              "       [27249.15967137, 27249.15967137],\n",
              "       [26797.17694223, 26797.17694223],\n",
              "       [26782.14975446, 26782.14975446],\n",
              "       [26732.28441551, 26732.28441551],\n",
              "       [27129.97079641, 27129.97079641],\n",
              "       [28774.27306771, 28774.27306771],\n",
              "       [30882.01363385, 30882.01363385],\n",
              "       [32766.72783121, 32766.72783121],\n",
              "       [34288.15861046, 34288.15861046],\n",
              "       [36525.56334436, 36525.56334436],\n",
              "       [39068.7956363 , 39068.7956363 ],\n",
              "       [40519.15992796, 40519.15992796],\n",
              "       [41108.35448653, 41108.35448653],\n",
              "       [41222.24637121, 41222.24637121],\n",
              "       [40979.85521704, 40979.85521704],\n",
              "       [40432.59260058, 40432.59260058],\n",
              "       [39100.92924535, 39100.92924535],\n",
              "       [39134.23654437, 39134.23654437],\n",
              "       [40601.6215384 , 40601.6215384 ],\n",
              "       [42211.64063364, 42211.64063364],\n",
              "       [43591.46264195, 43591.46264195],\n",
              "       [44259.0328753 , 44259.0328753 ],\n",
              "       [44715.48617631, 44715.48617631],\n",
              "       [45413.89104724, 45413.89104724],\n",
              "       [45599.16482121, 45599.16482121],\n",
              "       [45284.10379589, 45284.10379589],\n",
              "       [43669.28004473, 43669.28004473],\n",
              "       [43329.82648909, 43329.82648909],\n",
              "       [44100.45944899, 44100.45944899],\n",
              "       [44362.30000854, 44362.30000854],\n",
              "       [41754.8334673 , 41754.8334673 ],\n",
              "       [39134.29588825, 39134.29588825],\n",
              "       [36139.49407637, 36139.49407637],\n",
              "       [33254.19819728, 33254.19819728],\n",
              "       [30557.15207756, 30557.15207756],\n",
              "       [28270.37763596, 28270.37763596],\n",
              "       [26836.39774844, 26836.39774844],\n",
              "       [26134.78006609, 26134.78006609],\n",
              "       [25761.50050201, 25761.50050201],\n",
              "       [25499.03133698, 25499.03133698],\n",
              "       [24573.69768806, 24573.69768806],\n",
              "       [23763.24553788, 23763.24553788],\n",
              "       [23046.65231891, 23046.65231891],\n",
              "       [21788.33139874, 21788.33139874],\n",
              "       [20676.03597231, 20676.03597231],\n",
              "       [19429.47283201, 19429.47283201],\n",
              "       [18495.18059334, 18495.18059334],\n",
              "       [17963.0078054 , 17963.0078054 ],\n",
              "       [17604.49992074, 17604.49992074],\n",
              "       [17567.34900689, 17567.34900689],\n",
              "       [17665.87742185, 17665.87742185],\n",
              "       [17816.45426108, 17816.45426108],\n",
              "       [17965.36397701, 17965.36397701],\n",
              "       [18218.59363047, 18218.59363047],\n",
              "       [18450.46251127, 18450.46251127],\n",
              "       [18629.52083861, 18629.52083861],\n",
              "       [18683.6498701 , 18683.6498701 ],\n",
              "       [18810.42816723, 18810.42816723],\n",
              "       [19350.82571395, 19350.82571395],\n",
              "       [19972.66764566, 19972.66764566],\n",
              "       [20506.92955777, 20506.92955777],\n",
              "       [20836.01112291, 20836.01112291],\n",
              "       [21006.07802905, 21006.07802905],\n",
              "       [21052.43713409, 21052.43713409],\n",
              "       [21027.56270953, 21027.56270953],\n",
              "       [21104.69710827, 21104.69710827],\n",
              "       [21260.06211899, 21260.06211899],\n",
              "       [21348.49493206, 21348.49493206],\n",
              "       [21142.36288518, 21142.36288518],\n",
              "       [20897.30070718, 20897.30070718],\n",
              "       [21142.54146628, 21142.54146628],\n",
              "       [21486.34580709, 21486.34580709],\n",
              "       [21748.01932462, 21748.01932462],\n",
              "       [22067.78664887, 22067.78664887],\n",
              "       [23096.4077618 , 23096.4077618 ],\n",
              "       [24014.45859857, 24014.45859857],\n",
              "       [24928.45536955, 24928.45536955],\n",
              "       [25687.28988804, 25687.28988804],\n",
              "       [26246.61194906, 26246.61194906],\n",
              "       [26594.30990741, 26594.30990741],\n",
              "       [26762.62891665, 26762.62891665],\n",
              "       [26770.91068402, 26770.91068402],\n",
              "       [26586.80180833, 26586.80180833],\n",
              "       [26291.61658511, 26291.61658511],\n",
              "       [25880.84872626, 25880.84872626],\n",
              "       [25525.31737648, 25525.31737648],\n",
              "       [24523.47189002, 24523.47189002],\n",
              "       [23569.6130693 , 23569.6130693 ],\n",
              "       [22829.93947901, 22829.93947901],\n",
              "       [22346.8034137 , 22346.8034137 ],\n",
              "       [21461.78678423, 21461.78678423],\n",
              "       [20560.34728698, 20560.34728698],\n",
              "       [19920.00819929, 19920.00819929],\n",
              "       [19519.23044212, 19519.23044212],\n",
              "       [19268.43512384, 19268.43512384],\n",
              "       [19166.44443339, 19166.44443339],\n",
              "       [18723.96991169, 18723.96991169],\n",
              "       [18456.45651734, 18456.45651734],\n",
              "       [18546.86855851, 18546.86855851],\n",
              "       [18932.45593226, 18932.45593226],\n",
              "       [19494.51536685, 19494.51536685],\n",
              "       [20144.19946633, 20144.19946633],\n",
              "       [21276.25585347, 21276.25585347],\n",
              "       [22344.43460405, 22344.43460405],\n",
              "       [23496.84813805, 23496.84813805],\n",
              "       [25112.03784309, 25112.03784309],\n",
              "       [28575.16008243, 28575.16008243],\n",
              "       [32469.55898404, 32469.55898404],\n",
              "       [36937.90216744, 36937.90216744],\n",
              "       [41280.14621139, 41280.14621139],\n",
              "       [47410.06732732, 47410.06732732],\n",
              "       [52642.31563359, 52642.31563359],\n",
              "       [56132.82342255, 56132.82342255],\n",
              "       [57713.52444589, 57713.52444589],\n",
              "       [61796.76105082, 61796.76105082],\n",
              "       [65482.43765533, 65482.43765533],\n",
              "       [66658.06618333, 66658.06618333],\n",
              "       [66261.56558096, 66261.56558096],\n",
              "       [65867.30246246, 65867.30246246],\n",
              "       [65324.80274141, 65324.80274141],\n",
              "       [65020.97089589, 65020.97089589],\n",
              "       [66601.21035576, 66601.21035576],\n",
              "       [66392.14847982, 66392.14847982],\n",
              "       [64708.89684558, 64708.89684558],\n",
              "       [62084.92171764, 62084.92171764],\n",
              "       [58223.42459857, 58223.42459857],\n",
              "       [56269.52973008, 56269.52973008],\n",
              "       [55171.2988019 , 55171.2988019 ],\n",
              "       [52871.1983636 , 52871.1983636 ],\n",
              "       [49470.76358646, 49470.76358646],\n",
              "       [46486.93159968, 46486.93159968],\n",
              "       [44677.11926252, 44677.11926252],\n",
              "       [43663.75886649, 43663.75886649],\n",
              "       [43573.95400107, 43573.95400107],\n",
              "       [43932.14703351, 43932.14703351],\n",
              "       [43812.85265833, 43812.85265833],\n",
              "       [43123.83071333, 43123.83071333],\n",
              "       [42363.38731647, 42363.38731647],\n",
              "       [41757.38085806, 41757.38085806],\n",
              "       [40402.23930776, 40402.23930776],\n",
              "       [38951.77610964, 38951.77610964],\n",
              "       [36308.18233639, 36308.18233639],\n",
              "       [33839.74090964, 33839.74090964],\n",
              "       [31566.61775708, 31566.61775708],\n",
              "       [29395.94521001, 29395.94521001],\n",
              "       [27985.95783114, 27985.95783114],\n",
              "       [27563.02722543, 27563.02722543],\n",
              "       [27495.90490758, 27495.90490758],\n",
              "       [28104.14115712, 28104.14115712],\n",
              "       [29682.01895058, 29682.01895058],\n",
              "       [31522.13952318, 31522.13952318],\n",
              "       [32855.63924164, 32855.63924164],\n",
              "       [33757.97604024, 33757.97604024]])"
            ]
          },
          "metadata": {},
          "execution_count": 86
        }
      ]
    },
    {
      "cell_type": "code",
      "source": [
        "plt.figure(figsize=(16, 7))\n",
        "plt.plot(Pengujian.xTicksTrain.values[15:], train_target_denorm[15:], 'b-', label=\"Train - Data Aktual\")\n",
        "plt.plot(Pengujian.xTicksTrain.values[15:], train_pred_denorm[15:], 'r-', label=\"Train - Data Prediksi\")\n",
        "plt.plot(Pengujian.xTicksTest.values[15:], test_target_denorm[15:], 'c-', label=\"Test - Data Actual\")\n",
        "plt.plot(Pengujian.xTicksTest.values[15:], test_pred_denorm[15:], 'g-', label=\"Test - Data Prediksi\")\n",
        "plt.axvline(Pengujian.xTicksTrain.values[-15], color='k', linestyle=\"--\", linewidth=1)\n",
        "plt.axvline(Pengujian.xTicksTest[15], color='k', linestyle=\"--\", linewidth=1)\n",
        "plt.xticks(rotation=60)\n",
        "plt.ticklabel_format(useOffset=False, style='plain', axis='y')\n",
        "plt.legend(loc='upper right')\n",
        "plt.show()"
      ],
      "metadata": {
        "id": "5SoczBsFST4T",
        "colab": {
          "base_uri": "https://localhost:8080/",
          "height": 460
        },
        "outputId": "b74a2ec1-9230-4e03-c602-72aff44258c7"
      },
      "execution_count": null,
      "outputs": [
        {
          "output_type": "display_data",
          "data": {
            "text/plain": [
              "<Figure size 1152x504 with 1 Axes>"
            ],
            "image/png": "[encoded data removed]"
          },
          "metadata": {
            "needs_background": "light"
          }
        }
      ]
    },
    {
      "cell_type": "code",
      "source": [],
      "metadata": {
        "id": "zJgqd-cZdVM9"
      },
      "execution_count": null,
      "outputs": []
    }
  ]
}